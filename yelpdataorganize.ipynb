{
 "cells": [
  {
   "cell_type": "code",
   "execution_count": 1,
   "metadata": {},
   "outputs": [],
   "source": [
    "# %load './src/yelpdataorganize2.py'\n",
    "#!/usr/bin/env python\n",
    "\n",
    "# In[ ]:\n",
    "\n",
    "\n",
    "def yelpdataorganize2(city):\n",
    "    newlist = []\n",
    "    df = pd.DataFrame(columns = ['address','city','name','rating','review_count'])\n",
    "    #print(city[0])\n",
    "    try:\n",
    "        #print(city[0])\n",
    "        newdict = city[0]['businesses']\n",
    "    except KeyError:\n",
    "        newdict = city[1]['businesses']\n",
    "    for dic in city:\n",
    "        if 'businesses' in dic.keys():\n",
    "            for restaurant in dic['businesses']:\n",
    "                df = df.append(pd.DataFrame({'address': restaurant['location']['address1'],'city':restaurant['location']['city'],'name':restaurant['name'],'rating':restaurant['rating'],'review_count':restaurant['review_count']},index=[0]))\n",
    "    return df\n",
    "\n"
   ]
  },
  {
   "cell_type": "code",
   "execution_count": 2,
   "metadata": {},
   "outputs": [
    {
     "ename": "FileNotFoundError",
     "evalue": "[Errno 2] No such file or directory: './data/yelpjsonraw/Denver.json'",
     "output_type": "error",
     "traceback": [
      "\u001b[0;31m---------------------------------------------------------------------------\u001b[0m",
      "\u001b[0;31mFileNotFoundError\u001b[0m                         Traceback (most recent call last)",
      "\u001b[0;32m<ipython-input-2-bd813cb200ad>\u001b[0m in \u001b[0;36m<module>\u001b[0;34m\u001b[0m\n\u001b[1;32m      5\u001b[0m \u001b[0mdf\u001b[0m \u001b[0;34m=\u001b[0m \u001b[0mpd\u001b[0m\u001b[0;34m.\u001b[0m\u001b[0mDataFrame\u001b[0m\u001b[0;34m(\u001b[0m\u001b[0mcolumns\u001b[0m \u001b[0;34m=\u001b[0m \u001b[0;34m[\u001b[0m\u001b[0;34m'address'\u001b[0m\u001b[0;34m,\u001b[0m\u001b[0;34m'city'\u001b[0m\u001b[0;34m,\u001b[0m\u001b[0;34m'name'\u001b[0m\u001b[0;34m,\u001b[0m\u001b[0;34m'rating'\u001b[0m\u001b[0;34m,\u001b[0m\u001b[0;34m'review_count'\u001b[0m\u001b[0;34m]\u001b[0m\u001b[0;34m)\u001b[0m\u001b[0;34m\u001b[0m\u001b[0;34m\u001b[0m\u001b[0m\n\u001b[1;32m      6\u001b[0m \u001b[0;32mfor\u001b[0m \u001b[0mcity\u001b[0m \u001b[0;32min\u001b[0m \u001b[0msmall_city\u001b[0m\u001b[0;34m:\u001b[0m\u001b[0;34m\u001b[0m\u001b[0;34m\u001b[0m\u001b[0m\n\u001b[0;32m----> 7\u001b[0;31m     \u001b[0;32mwith\u001b[0m \u001b[0mopen\u001b[0m\u001b[0;34m(\u001b[0m\u001b[0;34m'./data/yelpjsonraw/%s.json'\u001b[0m\u001b[0;34m%\u001b[0m\u001b[0mcity\u001b[0m\u001b[0;34m)\u001b[0m \u001b[0;32mas\u001b[0m \u001b[0mf\u001b[0m\u001b[0;34m:\u001b[0m\u001b[0;34m\u001b[0m\u001b[0;34m\u001b[0m\u001b[0m\n\u001b[0m\u001b[1;32m      8\u001b[0m         \u001b[0mres\u001b[0m \u001b[0;34m=\u001b[0m \u001b[0mf\u001b[0m\u001b[0;34m.\u001b[0m\u001b[0mread\u001b[0m\u001b[0;34m(\u001b[0m\u001b[0;34m)\u001b[0m\u001b[0;34m\u001b[0m\u001b[0;34m\u001b[0m\u001b[0m\n\u001b[1;32m      9\u001b[0m         \u001b[0mres\u001b[0m \u001b[0;34m=\u001b[0m \u001b[0mres\u001b[0m\u001b[0;34m.\u001b[0m\u001b[0mreplace\u001b[0m\u001b[0;34m(\u001b[0m\u001b[0;34m'}{'\u001b[0m\u001b[0;34m,\u001b[0m\u001b[0;34m'},{'\u001b[0m\u001b[0;34m)\u001b[0m\u001b[0;34m\u001b[0m\u001b[0;34m\u001b[0m\u001b[0m\n",
      "\u001b[0;31mFileNotFoundError\u001b[0m: [Errno 2] No such file or directory: './data/yelpjsonraw/Denver.json'"
     ]
    }
   ],
   "source": [
    "import json\n",
    "import pandas as pd\n",
    "\n",
    "small_city = ['Denver','Dallas','Atlanta','Boston','Minneapolis','Philadelphia','San Francisco','Portland','San Diego','Charlotte','Cincinnati','Cleveland','Columbus','Detroit','Indianapolis','Kansas City','Miami','Orlando','Phoenix','Pittsburgh','Riverside','Sacramento','San Antonio','St. Louis','Tampa']\n",
    "df = pd.DataFrame(columns = ['address','city','name','rating','review_count'])\n",
    "for city in small_city:\n",
    "    with open('./data/yelpjsonraw/%s.json'%city) as f:\n",
    "        res = f.read() \n",
    "        res = res.replace('}{','},{')\n",
    "        if city != 'Denver':\n",
    "            cityjson = json.loads('['+ res + ']')\n",
    "        else:\n",
    "            cityjson = json.loads(res)\n",
    "    citydf = yelpdataorganize(cityjson)\n",
    "    small_restaurant = ['Chipotle Mexican Grill','Sonic Drive-In','KFC',\"Applebee's Grill + Bar\",'Olive Garden Italian Restaurant',\"Arby's\",'Little Caesars','Buffalo Wild Wings','Dairy Queen']\n",
    "    citydf = citydf[citydf.name.isin(small_restaurant)]\n",
    "    citydf = citydf[citydf.city.isin(small_city)]\n",
    "    citydf.drop_duplicates('address')\n",
    "    df = df.append(citydf)\n",
    "    \n",
    "    if city != 'Denver':\n",
    "        with open('./data/yelpjsonraw/%s_br.json'%city) as f:\n",
    "            res = f.read() \n",
    "            res = res.replace('}{','},{')\n",
    "            if city != 'Tampa':\n",
    "                cityjson = json.loads('[' + res + ']')\n",
    "            else:\n",
    "                cityjson = json.loads(res)\n",
    "        citydf = yelpdataorganize(cityjson)\n",
    "        big_restaurant = [\"McDonald's\",'Starbucks','Subway','Subway Restaurants','Taco Bell','Chick-fil-A','Burger King',\"Wendy's\",\"Dunkin'\",\"Domino's Pizza\",'Panera Bread','Pizza Hut']\n",
    "        citydf = citydf[citydf.name.isin(big_restaurant)]\n",
    "        citydf = citydf[citydf.city.isin(small_city)]\n",
    "        citydf.drop_duplicates('address')\n",
    "        df = df.append(citydf)"
   ]
  },
  {
   "cell_type": "code",
   "execution_count": 7,
   "metadata": {},
   "outputs": [],
   "source": [
    "big_city = ['New York City', 'Los Angeles', 'Chicago', 'Houston']\n",
    "df_bc = pd.DataFrame(columns = ['address','city','name','rating','review_count'])\n",
    "for city in big_city:\n",
    "    with open('./data/yelpjsonraw/%s.json'%city) as f:\n",
    "        res = f.read() \n",
    "        res = res.replace('}{','},{')\n",
    "        cityjson = json.loads(res)\n",
    "    citydf = yelpdataorganize(cityjson)\n",
    "    small_restaurant = ['Chipotle Mexican Grill','Sonic Drive-In','KFC',\"Applebee's Grill + Bar\",'Olive Garden Italian Restaurant',\"Arby's\",'Little Caesars','Buffalo Wild Wings','Dairy Queen']\n",
    "    citydf = citydf[citydf.name.isin(small_restaurant)]\n",
    "    citydf = citydf[citydf.city.isin(big_city)]\n",
    "    citydf.drop_duplicates('address')\n",
    "    df = df.append(citydf)\n",
    "    \n",
    "    if city != 'Denver':\n",
    "        with open('./data/yelpjsonraw/%s_br.json'%city) as f:\n",
    "            res = f.read() \n",
    "            res = res.replace('}{','},{')\n",
    "            if city == 'New York City':\n",
    "                cityjson = json.loads(res)\n",
    "            else:\n",
    "                cityjson = json.loads('['+res+']')\n",
    "        citydf = yelpdataorganize(cityjson)\n",
    "        big_restaurant = [\"McDonald's\",'Starbucks','Subway','Subway Restaurants','Taco Bell','Chick-fil-A','Burger King',\"Wendy's\",\"Dunkin'\",\"Domino's Pizza\",'Panera Bread','Pizza Hut']\n",
    "        citydf = citydf[citydf.name.isin(big_restaurant)]\n",
    "        citydf = citydf[citydf.city.isin(big_city)]\n",
    "        citydf.drop_duplicates('address')\n",
    "        df = df.append(citydf)"
   ]
  },
  {
   "cell_type": "code",
   "execution_count": 10,
   "metadata": {},
   "outputs": [],
   "source": [
    "df = df.replace('Subway Restaurants', 'Subway')\n",
    "df.to_csv('yelp.csv')"
   ]
  }
 ],
 "metadata": {
  "kernelspec": {
   "display_name": "Python 3",
   "language": "python",
   "name": "python3"
  },
  "language_info": {
   "codemirror_mode": {
    "name": "ipython",
    "version": 3
   },
   "file_extension": ".py",
   "mimetype": "text/x-python",
   "name": "python",
   "nbconvert_exporter": "python",
   "pygments_lexer": "ipython3",
   "version": "3.7.3"
  }
 },
 "nbformat": 4,
 "nbformat_minor": 4
}
